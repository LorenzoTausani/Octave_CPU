{
  "nbformat": 4,
  "nbformat_minor": 0,
  "metadata": {
    "colab": {
      "name": "VGG_MNIST_noimgTrain.ipynb",
      "provenance": [],
      "collapsed_sections": []
    },
    "kernelspec": {
      "name": "python3",
      "display_name": "Python 3"
    },
    "language_info": {
      "name": "python"
    },
    "accelerator": "GPU",
    "widgets": {
      "application/vnd.jupyter.widget-state+json": {
        "7bf224a4788145388b1c8016a9f658bd": {
          "model_module": "@jupyter-widgets/controls",
          "model_name": "HBoxModel",
          "model_module_version": "1.5.0",
          "state": {
            "_dom_classes": [],
            "_model_module": "@jupyter-widgets/controls",
            "_model_module_version": "1.5.0",
            "_model_name": "HBoxModel",
            "_view_count": null,
            "_view_module": "@jupyter-widgets/controls",
            "_view_module_version": "1.5.0",
            "_view_name": "HBoxView",
            "box_style": "",
            "children": [
              "IPY_MODEL_bc2e554e345446da8f14659c8506984e",
              "IPY_MODEL_a0466573fe8d4694a395fc44ca13585d",
              "IPY_MODEL_86173aa70830498d92462aae60282844"
            ],
            "layout": "IPY_MODEL_623bf266528f4626ba53b7a6744cf12c"
          }
        },
        "bc2e554e345446da8f14659c8506984e": {
          "model_module": "@jupyter-widgets/controls",
          "model_name": "HTMLModel",
          "model_module_version": "1.5.0",
          "state": {
            "_dom_classes": [],
            "_model_module": "@jupyter-widgets/controls",
            "_model_module_version": "1.5.0",
            "_model_name": "HTMLModel",
            "_view_count": null,
            "_view_module": "@jupyter-widgets/controls",
            "_view_module_version": "1.5.0",
            "_view_name": "HTMLView",
            "description": "",
            "description_tooltip": null,
            "layout": "IPY_MODEL_6164ece8d2e349f2ba038da995aa8b47",
            "placeholder": "​",
            "style": "IPY_MODEL_0dd7692306d947c49c81d712e3fc7476",
            "value": ""
          }
        },
        "a0466573fe8d4694a395fc44ca13585d": {
          "model_module": "@jupyter-widgets/controls",
          "model_name": "FloatProgressModel",
          "model_module_version": "1.5.0",
          "state": {
            "_dom_classes": [],
            "_model_module": "@jupyter-widgets/controls",
            "_model_module_version": "1.5.0",
            "_model_name": "FloatProgressModel",
            "_view_count": null,
            "_view_module": "@jupyter-widgets/controls",
            "_view_module_version": "1.5.0",
            "_view_name": "ProgressView",
            "bar_style": "success",
            "description": "",
            "description_tooltip": null,
            "layout": "IPY_MODEL_ca810c0429994419ba5d48d10ed536ab",
            "max": 9912422,
            "min": 0,
            "orientation": "horizontal",
            "style": "IPY_MODEL_99dd7d35b45f43929d323b58d1fad195",
            "value": 9912422
          }
        },
        "86173aa70830498d92462aae60282844": {
          "model_module": "@jupyter-widgets/controls",
          "model_name": "HTMLModel",
          "model_module_version": "1.5.0",
          "state": {
            "_dom_classes": [],
            "_model_module": "@jupyter-widgets/controls",
            "_model_module_version": "1.5.0",
            "_model_name": "HTMLModel",
            "_view_count": null,
            "_view_module": "@jupyter-widgets/controls",
            "_view_module_version": "1.5.0",
            "_view_name": "HTMLView",
            "description": "",
            "description_tooltip": null,
            "layout": "IPY_MODEL_ab53103376c1438481599b6c1da05ed8",
            "placeholder": "​",
            "style": "IPY_MODEL_53de664a41b7447999c3163c398ab8ff",
            "value": " 9913344/? [00:00&lt;00:00, 23556994.64it/s]"
          }
        },
        "623bf266528f4626ba53b7a6744cf12c": {
          "model_module": "@jupyter-widgets/base",
          "model_name": "LayoutModel",
          "model_module_version": "1.2.0",
          "state": {
            "_model_module": "@jupyter-widgets/base",
            "_model_module_version": "1.2.0",
            "_model_name": "LayoutModel",
            "_view_count": null,
            "_view_module": "@jupyter-widgets/base",
            "_view_module_version": "1.2.0",
            "_view_name": "LayoutView",
            "align_content": null,
            "align_items": null,
            "align_self": null,
            "border": null,
            "bottom": null,
            "display": null,
            "flex": null,
            "flex_flow": null,
            "grid_area": null,
            "grid_auto_columns": null,
            "grid_auto_flow": null,
            "grid_auto_rows": null,
            "grid_column": null,
            "grid_gap": null,
            "grid_row": null,
            "grid_template_areas": null,
            "grid_template_columns": null,
            "grid_template_rows": null,
            "height": null,
            "justify_content": null,
            "justify_items": null,
            "left": null,
            "margin": null,
            "max_height": null,
            "max_width": null,
            "min_height": null,
            "min_width": null,
            "object_fit": null,
            "object_position": null,
            "order": null,
            "overflow": null,
            "overflow_x": null,
            "overflow_y": null,
            "padding": null,
            "right": null,
            "top": null,
            "visibility": null,
            "width": null
          }
        },
        "6164ece8d2e349f2ba038da995aa8b47": {
          "model_module": "@jupyter-widgets/base",
          "model_name": "LayoutModel",
          "model_module_version": "1.2.0",
          "state": {
            "_model_module": "@jupyter-widgets/base",
            "_model_module_version": "1.2.0",
            "_model_name": "LayoutModel",
            "_view_count": null,
            "_view_module": "@jupyter-widgets/base",
            "_view_module_version": "1.2.0",
            "_view_name": "LayoutView",
            "align_content": null,
            "align_items": null,
            "align_self": null,
            "border": null,
            "bottom": null,
            "display": null,
            "flex": null,
            "flex_flow": null,
            "grid_area": null,
            "grid_auto_columns": null,
            "grid_auto_flow": null,
            "grid_auto_rows": null,
            "grid_column": null,
            "grid_gap": null,
            "grid_row": null,
            "grid_template_areas": null,
            "grid_template_columns": null,
            "grid_template_rows": null,
            "height": null,
            "justify_content": null,
            "justify_items": null,
            "left": null,
            "margin": null,
            "max_height": null,
            "max_width": null,
            "min_height": null,
            "min_width": null,
            "object_fit": null,
            "object_position": null,
            "order": null,
            "overflow": null,
            "overflow_x": null,
            "overflow_y": null,
            "padding": null,
            "right": null,
            "top": null,
            "visibility": null,
            "width": null
          }
        },
        "0dd7692306d947c49c81d712e3fc7476": {
          "model_module": "@jupyter-widgets/controls",
          "model_name": "DescriptionStyleModel",
          "model_module_version": "1.5.0",
          "state": {
            "_model_module": "@jupyter-widgets/controls",
            "_model_module_version": "1.5.0",
            "_model_name": "DescriptionStyleModel",
            "_view_count": null,
            "_view_module": "@jupyter-widgets/base",
            "_view_module_version": "1.2.0",
            "_view_name": "StyleView",
            "description_width": ""
          }
        },
        "ca810c0429994419ba5d48d10ed536ab": {
          "model_module": "@jupyter-widgets/base",
          "model_name": "LayoutModel",
          "model_module_version": "1.2.0",
          "state": {
            "_model_module": "@jupyter-widgets/base",
            "_model_module_version": "1.2.0",
            "_model_name": "LayoutModel",
            "_view_count": null,
            "_view_module": "@jupyter-widgets/base",
            "_view_module_version": "1.2.0",
            "_view_name": "LayoutView",
            "align_content": null,
            "align_items": null,
            "align_self": null,
            "border": null,
            "bottom": null,
            "display": null,
            "flex": null,
            "flex_flow": null,
            "grid_area": null,
            "grid_auto_columns": null,
            "grid_auto_flow": null,
            "grid_auto_rows": null,
            "grid_column": null,
            "grid_gap": null,
            "grid_row": null,
            "grid_template_areas": null,
            "grid_template_columns": null,
            "grid_template_rows": null,
            "height": null,
            "justify_content": null,
            "justify_items": null,
            "left": null,
            "margin": null,
            "max_height": null,
            "max_width": null,
            "min_height": null,
            "min_width": null,
            "object_fit": null,
            "object_position": null,
            "order": null,
            "overflow": null,
            "overflow_x": null,
            "overflow_y": null,
            "padding": null,
            "right": null,
            "top": null,
            "visibility": null,
            "width": null
          }
        },
        "99dd7d35b45f43929d323b58d1fad195": {
          "model_module": "@jupyter-widgets/controls",
          "model_name": "ProgressStyleModel",
          "model_module_version": "1.5.0",
          "state": {
            "_model_module": "@jupyter-widgets/controls",
            "_model_module_version": "1.5.0",
            "_model_name": "ProgressStyleModel",
            "_view_count": null,
            "_view_module": "@jupyter-widgets/base",
            "_view_module_version": "1.2.0",
            "_view_name": "StyleView",
            "bar_color": null,
            "description_width": ""
          }
        },
        "ab53103376c1438481599b6c1da05ed8": {
          "model_module": "@jupyter-widgets/base",
          "model_name": "LayoutModel",
          "model_module_version": "1.2.0",
          "state": {
            "_model_module": "@jupyter-widgets/base",
            "_model_module_version": "1.2.0",
            "_model_name": "LayoutModel",
            "_view_count": null,
            "_view_module": "@jupyter-widgets/base",
            "_view_module_version": "1.2.0",
            "_view_name": "LayoutView",
            "align_content": null,
            "align_items": null,
            "align_self": null,
            "border": null,
            "bottom": null,
            "display": null,
            "flex": null,
            "flex_flow": null,
            "grid_area": null,
            "grid_auto_columns": null,
            "grid_auto_flow": null,
            "grid_auto_rows": null,
            "grid_column": null,
            "grid_gap": null,
            "grid_row": null,
            "grid_template_areas": null,
            "grid_template_columns": null,
            "grid_template_rows": null,
            "height": null,
            "justify_content": null,
            "justify_items": null,
            "left": null,
            "margin": null,
            "max_height": null,
            "max_width": null,
            "min_height": null,
            "min_width": null,
            "object_fit": null,
            "object_position": null,
            "order": null,
            "overflow": null,
            "overflow_x": null,
            "overflow_y": null,
            "padding": null,
            "right": null,
            "top": null,
            "visibility": null,
            "width": null
          }
        },
        "53de664a41b7447999c3163c398ab8ff": {
          "model_module": "@jupyter-widgets/controls",
          "model_name": "DescriptionStyleModel",
          "model_module_version": "1.5.0",
          "state": {
            "_model_module": "@jupyter-widgets/controls",
            "_model_module_version": "1.5.0",
            "_model_name": "DescriptionStyleModel",
            "_view_count": null,
            "_view_module": "@jupyter-widgets/base",
            "_view_module_version": "1.2.0",
            "_view_name": "StyleView",
            "description_width": ""
          }
        },
        "f89fbe4a7ef6473da5ef9ac1f395444f": {
          "model_module": "@jupyter-widgets/controls",
          "model_name": "HBoxModel",
          "model_module_version": "1.5.0",
          "state": {
            "_dom_classes": [],
            "_model_module": "@jupyter-widgets/controls",
            "_model_module_version": "1.5.0",
            "_model_name": "HBoxModel",
            "_view_count": null,
            "_view_module": "@jupyter-widgets/controls",
            "_view_module_version": "1.5.0",
            "_view_name": "HBoxView",
            "box_style": "",
            "children": [
              "IPY_MODEL_dbd8be18d14d416fb82461adfffadb1f",
              "IPY_MODEL_3f17396e5ca84bb48e19bdabfd04d96f",
              "IPY_MODEL_dd51ad3a3a314a74a936d86575ae5434"
            ],
            "layout": "IPY_MODEL_6864922257f84e30afd7e05d93aa6718"
          }
        },
        "dbd8be18d14d416fb82461adfffadb1f": {
          "model_module": "@jupyter-widgets/controls",
          "model_name": "HTMLModel",
          "model_module_version": "1.5.0",
          "state": {
            "_dom_classes": [],
            "_model_module": "@jupyter-widgets/controls",
            "_model_module_version": "1.5.0",
            "_model_name": "HTMLModel",
            "_view_count": null,
            "_view_module": "@jupyter-widgets/controls",
            "_view_module_version": "1.5.0",
            "_view_name": "HTMLView",
            "description": "",
            "description_tooltip": null,
            "layout": "IPY_MODEL_fa0484b93e874c4c800e94a28f400d0c",
            "placeholder": "​",
            "style": "IPY_MODEL_4974c985895649b0ab3c5272667e12a1",
            "value": ""
          }
        },
        "3f17396e5ca84bb48e19bdabfd04d96f": {
          "model_module": "@jupyter-widgets/controls",
          "model_name": "FloatProgressModel",
          "model_module_version": "1.5.0",
          "state": {
            "_dom_classes": [],
            "_model_module": "@jupyter-widgets/controls",
            "_model_module_version": "1.5.0",
            "_model_name": "FloatProgressModel",
            "_view_count": null,
            "_view_module": "@jupyter-widgets/controls",
            "_view_module_version": "1.5.0",
            "_view_name": "ProgressView",
            "bar_style": "success",
            "description": "",
            "description_tooltip": null,
            "layout": "IPY_MODEL_39b3b6017f5741c69347b4248d395e47",
            "max": 28881,
            "min": 0,
            "orientation": "horizontal",
            "style": "IPY_MODEL_4662051439884c1e956a3c01e29bac14",
            "value": 28881
          }
        },
        "dd51ad3a3a314a74a936d86575ae5434": {
          "model_module": "@jupyter-widgets/controls",
          "model_name": "HTMLModel",
          "model_module_version": "1.5.0",
          "state": {
            "_dom_classes": [],
            "_model_module": "@jupyter-widgets/controls",
            "_model_module_version": "1.5.0",
            "_model_name": "HTMLModel",
            "_view_count": null,
            "_view_module": "@jupyter-widgets/controls",
            "_view_module_version": "1.5.0",
            "_view_name": "HTMLView",
            "description": "",
            "description_tooltip": null,
            "layout": "IPY_MODEL_f7ec78ddbb1842aca6db8820467b765f",
            "placeholder": "​",
            "style": "IPY_MODEL_feb16e44fa1743d295e0194329960327",
            "value": " 29696/? [00:00&lt;00:00, 398029.10it/s]"
          }
        },
        "6864922257f84e30afd7e05d93aa6718": {
          "model_module": "@jupyter-widgets/base",
          "model_name": "LayoutModel",
          "model_module_version": "1.2.0",
          "state": {
            "_model_module": "@jupyter-widgets/base",
            "_model_module_version": "1.2.0",
            "_model_name": "LayoutModel",
            "_view_count": null,
            "_view_module": "@jupyter-widgets/base",
            "_view_module_version": "1.2.0",
            "_view_name": "LayoutView",
            "align_content": null,
            "align_items": null,
            "align_self": null,
            "border": null,
            "bottom": null,
            "display": null,
            "flex": null,
            "flex_flow": null,
            "grid_area": null,
            "grid_auto_columns": null,
            "grid_auto_flow": null,
            "grid_auto_rows": null,
            "grid_column": null,
            "grid_gap": null,
            "grid_row": null,
            "grid_template_areas": null,
            "grid_template_columns": null,
            "grid_template_rows": null,
            "height": null,
            "justify_content": null,
            "justify_items": null,
            "left": null,
            "margin": null,
            "max_height": null,
            "max_width": null,
            "min_height": null,
            "min_width": null,
            "object_fit": null,
            "object_position": null,
            "order": null,
            "overflow": null,
            "overflow_x": null,
            "overflow_y": null,
            "padding": null,
            "right": null,
            "top": null,
            "visibility": null,
            "width": null
          }
        },
        "fa0484b93e874c4c800e94a28f400d0c": {
          "model_module": "@jupyter-widgets/base",
          "model_name": "LayoutModel",
          "model_module_version": "1.2.0",
          "state": {
            "_model_module": "@jupyter-widgets/base",
            "_model_module_version": "1.2.0",
            "_model_name": "LayoutModel",
            "_view_count": null,
            "_view_module": "@jupyter-widgets/base",
            "_view_module_version": "1.2.0",
            "_view_name": "LayoutView",
            "align_content": null,
            "align_items": null,
            "align_self": null,
            "border": null,
            "bottom": null,
            "display": null,
            "flex": null,
            "flex_flow": null,
            "grid_area": null,
            "grid_auto_columns": null,
            "grid_auto_flow": null,
            "grid_auto_rows": null,
            "grid_column": null,
            "grid_gap": null,
            "grid_row": null,
            "grid_template_areas": null,
            "grid_template_columns": null,
            "grid_template_rows": null,
            "height": null,
            "justify_content": null,
            "justify_items": null,
            "left": null,
            "margin": null,
            "max_height": null,
            "max_width": null,
            "min_height": null,
            "min_width": null,
            "object_fit": null,
            "object_position": null,
            "order": null,
            "overflow": null,
            "overflow_x": null,
            "overflow_y": null,
            "padding": null,
            "right": null,
            "top": null,
            "visibility": null,
            "width": null
          }
        },
        "4974c985895649b0ab3c5272667e12a1": {
          "model_module": "@jupyter-widgets/controls",
          "model_name": "DescriptionStyleModel",
          "model_module_version": "1.5.0",
          "state": {
            "_model_module": "@jupyter-widgets/controls",
            "_model_module_version": "1.5.0",
            "_model_name": "DescriptionStyleModel",
            "_view_count": null,
            "_view_module": "@jupyter-widgets/base",
            "_view_module_version": "1.2.0",
            "_view_name": "StyleView",
            "description_width": ""
          }
        },
        "39b3b6017f5741c69347b4248d395e47": {
          "model_module": "@jupyter-widgets/base",
          "model_name": "LayoutModel",
          "model_module_version": "1.2.0",
          "state": {
            "_model_module": "@jupyter-widgets/base",
            "_model_module_version": "1.2.0",
            "_model_name": "LayoutModel",
            "_view_count": null,
            "_view_module": "@jupyter-widgets/base",
            "_view_module_version": "1.2.0",
            "_view_name": "LayoutView",
            "align_content": null,
            "align_items": null,
            "align_self": null,
            "border": null,
            "bottom": null,
            "display": null,
            "flex": null,
            "flex_flow": null,
            "grid_area": null,
            "grid_auto_columns": null,
            "grid_auto_flow": null,
            "grid_auto_rows": null,
            "grid_column": null,
            "grid_gap": null,
            "grid_row": null,
            "grid_template_areas": null,
            "grid_template_columns": null,
            "grid_template_rows": null,
            "height": null,
            "justify_content": null,
            "justify_items": null,
            "left": null,
            "margin": null,
            "max_height": null,
            "max_width": null,
            "min_height": null,
            "min_width": null,
            "object_fit": null,
            "object_position": null,
            "order": null,
            "overflow": null,
            "overflow_x": null,
            "overflow_y": null,
            "padding": null,
            "right": null,
            "top": null,
            "visibility": null,
            "width": null
          }
        },
        "4662051439884c1e956a3c01e29bac14": {
          "model_module": "@jupyter-widgets/controls",
          "model_name": "ProgressStyleModel",
          "model_module_version": "1.5.0",
          "state": {
            "_model_module": "@jupyter-widgets/controls",
            "_model_module_version": "1.5.0",
            "_model_name": "ProgressStyleModel",
            "_view_count": null,
            "_view_module": "@jupyter-widgets/base",
            "_view_module_version": "1.2.0",
            "_view_name": "StyleView",
            "bar_color": null,
            "description_width": ""
          }
        },
        "f7ec78ddbb1842aca6db8820467b765f": {
          "model_module": "@jupyter-widgets/base",
          "model_name": "LayoutModel",
          "model_module_version": "1.2.0",
          "state": {
            "_model_module": "@jupyter-widgets/base",
            "_model_module_version": "1.2.0",
            "_model_name": "LayoutModel",
            "_view_count": null,
            "_view_module": "@jupyter-widgets/base",
            "_view_module_version": "1.2.0",
            "_view_name": "LayoutView",
            "align_content": null,
            "align_items": null,
            "align_self": null,
            "border": null,
            "bottom": null,
            "display": null,
            "flex": null,
            "flex_flow": null,
            "grid_area": null,
            "grid_auto_columns": null,
            "grid_auto_flow": null,
            "grid_auto_rows": null,
            "grid_column": null,
            "grid_gap": null,
            "grid_row": null,
            "grid_template_areas": null,
            "grid_template_columns": null,
            "grid_template_rows": null,
            "height": null,
            "justify_content": null,
            "justify_items": null,
            "left": null,
            "margin": null,
            "max_height": null,
            "max_width": null,
            "min_height": null,
            "min_width": null,
            "object_fit": null,
            "object_position": null,
            "order": null,
            "overflow": null,
            "overflow_x": null,
            "overflow_y": null,
            "padding": null,
            "right": null,
            "top": null,
            "visibility": null,
            "width": null
          }
        },
        "feb16e44fa1743d295e0194329960327": {
          "model_module": "@jupyter-widgets/controls",
          "model_name": "DescriptionStyleModel",
          "model_module_version": "1.5.0",
          "state": {
            "_model_module": "@jupyter-widgets/controls",
            "_model_module_version": "1.5.0",
            "_model_name": "DescriptionStyleModel",
            "_view_count": null,
            "_view_module": "@jupyter-widgets/base",
            "_view_module_version": "1.2.0",
            "_view_name": "StyleView",
            "description_width": ""
          }
        },
        "c250af1792d448a6ad2a4948f9ce181e": {
          "model_module": "@jupyter-widgets/controls",
          "model_name": "HBoxModel",
          "model_module_version": "1.5.0",
          "state": {
            "_dom_classes": [],
            "_model_module": "@jupyter-widgets/controls",
            "_model_module_version": "1.5.0",
            "_model_name": "HBoxModel",
            "_view_count": null,
            "_view_module": "@jupyter-widgets/controls",
            "_view_module_version": "1.5.0",
            "_view_name": "HBoxView",
            "box_style": "",
            "children": [
              "IPY_MODEL_85fccef6026a42c1adf92d121732417b",
              "IPY_MODEL_777b3d56b65f4b59977045c8d627c0c5",
              "IPY_MODEL_af5ad2cd6c8d4fd6875bbbaec719413a"
            ],
            "layout": "IPY_MODEL_fcb039fb38444fdab593812c0eb822c6"
          }
        },
        "85fccef6026a42c1adf92d121732417b": {
          "model_module": "@jupyter-widgets/controls",
          "model_name": "HTMLModel",
          "model_module_version": "1.5.0",
          "state": {
            "_dom_classes": [],
            "_model_module": "@jupyter-widgets/controls",
            "_model_module_version": "1.5.0",
            "_model_name": "HTMLModel",
            "_view_count": null,
            "_view_module": "@jupyter-widgets/controls",
            "_view_module_version": "1.5.0",
            "_view_name": "HTMLView",
            "description": "",
            "description_tooltip": null,
            "layout": "IPY_MODEL_297876ea25c54bf0bd11eeff0e6618cd",
            "placeholder": "​",
            "style": "IPY_MODEL_ea19a0b5f5f142d2b58cdac7923012b9",
            "value": ""
          }
        },
        "777b3d56b65f4b59977045c8d627c0c5": {
          "model_module": "@jupyter-widgets/controls",
          "model_name": "FloatProgressModel",
          "model_module_version": "1.5.0",
          "state": {
            "_dom_classes": [],
            "_model_module": "@jupyter-widgets/controls",
            "_model_module_version": "1.5.0",
            "_model_name": "FloatProgressModel",
            "_view_count": null,
            "_view_module": "@jupyter-widgets/controls",
            "_view_module_version": "1.5.0",
            "_view_name": "ProgressView",
            "bar_style": "success",
            "description": "",
            "description_tooltip": null,
            "layout": "IPY_MODEL_18eeebe278234c239dfd46129c97fcf0",
            "max": 1648877,
            "min": 0,
            "orientation": "horizontal",
            "style": "IPY_MODEL_44bd802bfbed41caa5edda0521206270",
            "value": 1648877
          }
        },
        "af5ad2cd6c8d4fd6875bbbaec719413a": {
          "model_module": "@jupyter-widgets/controls",
          "model_name": "HTMLModel",
          "model_module_version": "1.5.0",
          "state": {
            "_dom_classes": [],
            "_model_module": "@jupyter-widgets/controls",
            "_model_module_version": "1.5.0",
            "_model_name": "HTMLModel",
            "_view_count": null,
            "_view_module": "@jupyter-widgets/controls",
            "_view_module_version": "1.5.0",
            "_view_name": "HTMLView",
            "description": "",
            "description_tooltip": null,
            "layout": "IPY_MODEL_213104a2b8dc45519bebc2d52f2550ab",
            "placeholder": "​",
            "style": "IPY_MODEL_b087dd2337cb4121a1bfd8ace3629376",
            "value": " 1649664/? [00:00&lt;00:00, 911187.07it/s]"
          }
        },
        "fcb039fb38444fdab593812c0eb822c6": {
          "model_module": "@jupyter-widgets/base",
          "model_name": "LayoutModel",
          "model_module_version": "1.2.0",
          "state": {
            "_model_module": "@jupyter-widgets/base",
            "_model_module_version": "1.2.0",
            "_model_name": "LayoutModel",
            "_view_count": null,
            "_view_module": "@jupyter-widgets/base",
            "_view_module_version": "1.2.0",
            "_view_name": "LayoutView",
            "align_content": null,
            "align_items": null,
            "align_self": null,
            "border": null,
            "bottom": null,
            "display": null,
            "flex": null,
            "flex_flow": null,
            "grid_area": null,
            "grid_auto_columns": null,
            "grid_auto_flow": null,
            "grid_auto_rows": null,
            "grid_column": null,
            "grid_gap": null,
            "grid_row": null,
            "grid_template_areas": null,
            "grid_template_columns": null,
            "grid_template_rows": null,
            "height": null,
            "justify_content": null,
            "justify_items": null,
            "left": null,
            "margin": null,
            "max_height": null,
            "max_width": null,
            "min_height": null,
            "min_width": null,
            "object_fit": null,
            "object_position": null,
            "order": null,
            "overflow": null,
            "overflow_x": null,
            "overflow_y": null,
            "padding": null,
            "right": null,
            "top": null,
            "visibility": null,
            "width": null
          }
        },
        "297876ea25c54bf0bd11eeff0e6618cd": {
          "model_module": "@jupyter-widgets/base",
          "model_name": "LayoutModel",
          "model_module_version": "1.2.0",
          "state": {
            "_model_module": "@jupyter-widgets/base",
            "_model_module_version": "1.2.0",
            "_model_name": "LayoutModel",
            "_view_count": null,
            "_view_module": "@jupyter-widgets/base",
            "_view_module_version": "1.2.0",
            "_view_name": "LayoutView",
            "align_content": null,
            "align_items": null,
            "align_self": null,
            "border": null,
            "bottom": null,
            "display": null,
            "flex": null,
            "flex_flow": null,
            "grid_area": null,
            "grid_auto_columns": null,
            "grid_auto_flow": null,
            "grid_auto_rows": null,
            "grid_column": null,
            "grid_gap": null,
            "grid_row": null,
            "grid_template_areas": null,
            "grid_template_columns": null,
            "grid_template_rows": null,
            "height": null,
            "justify_content": null,
            "justify_items": null,
            "left": null,
            "margin": null,
            "max_height": null,
            "max_width": null,
            "min_height": null,
            "min_width": null,
            "object_fit": null,
            "object_position": null,
            "order": null,
            "overflow": null,
            "overflow_x": null,
            "overflow_y": null,
            "padding": null,
            "right": null,
            "top": null,
            "visibility": null,
            "width": null
          }
        },
        "ea19a0b5f5f142d2b58cdac7923012b9": {
          "model_module": "@jupyter-widgets/controls",
          "model_name": "DescriptionStyleModel",
          "model_module_version": "1.5.0",
          "state": {
            "_model_module": "@jupyter-widgets/controls",
            "_model_module_version": "1.5.0",
            "_model_name": "DescriptionStyleModel",
            "_view_count": null,
            "_view_module": "@jupyter-widgets/base",
            "_view_module_version": "1.2.0",
            "_view_name": "StyleView",
            "description_width": ""
          }
        },
        "18eeebe278234c239dfd46129c97fcf0": {
          "model_module": "@jupyter-widgets/base",
          "model_name": "LayoutModel",
          "model_module_version": "1.2.0",
          "state": {
            "_model_module": "@jupyter-widgets/base",
            "_model_module_version": "1.2.0",
            "_model_name": "LayoutModel",
            "_view_count": null,
            "_view_module": "@jupyter-widgets/base",
            "_view_module_version": "1.2.0",
            "_view_name": "LayoutView",
            "align_content": null,
            "align_items": null,
            "align_self": null,
            "border": null,
            "bottom": null,
            "display": null,
            "flex": null,
            "flex_flow": null,
            "grid_area": null,
            "grid_auto_columns": null,
            "grid_auto_flow": null,
            "grid_auto_rows": null,
            "grid_column": null,
            "grid_gap": null,
            "grid_row": null,
            "grid_template_areas": null,
            "grid_template_columns": null,
            "grid_template_rows": null,
            "height": null,
            "justify_content": null,
            "justify_items": null,
            "left": null,
            "margin": null,
            "max_height": null,
            "max_width": null,
            "min_height": null,
            "min_width": null,
            "object_fit": null,
            "object_position": null,
            "order": null,
            "overflow": null,
            "overflow_x": null,
            "overflow_y": null,
            "padding": null,
            "right": null,
            "top": null,
            "visibility": null,
            "width": null
          }
        },
        "44bd802bfbed41caa5edda0521206270": {
          "model_module": "@jupyter-widgets/controls",
          "model_name": "ProgressStyleModel",
          "model_module_version": "1.5.0",
          "state": {
            "_model_module": "@jupyter-widgets/controls",
            "_model_module_version": "1.5.0",
            "_model_name": "ProgressStyleModel",
            "_view_count": null,
            "_view_module": "@jupyter-widgets/base",
            "_view_module_version": "1.2.0",
            "_view_name": "StyleView",
            "bar_color": null,
            "description_width": ""
          }
        },
        "213104a2b8dc45519bebc2d52f2550ab": {
          "model_module": "@jupyter-widgets/base",
          "model_name": "LayoutModel",
          "model_module_version": "1.2.0",
          "state": {
            "_model_module": "@jupyter-widgets/base",
            "_model_module_version": "1.2.0",
            "_model_name": "LayoutModel",
            "_view_count": null,
            "_view_module": "@jupyter-widgets/base",
            "_view_module_version": "1.2.0",
            "_view_name": "LayoutView",
            "align_content": null,
            "align_items": null,
            "align_self": null,
            "border": null,
            "bottom": null,
            "display": null,
            "flex": null,
            "flex_flow": null,
            "grid_area": null,
            "grid_auto_columns": null,
            "grid_auto_flow": null,
            "grid_auto_rows": null,
            "grid_column": null,
            "grid_gap": null,
            "grid_row": null,
            "grid_template_areas": null,
            "grid_template_columns": null,
            "grid_template_rows": null,
            "height": null,
            "justify_content": null,
            "justify_items": null,
            "left": null,
            "margin": null,
            "max_height": null,
            "max_width": null,
            "min_height": null,
            "min_width": null,
            "object_fit": null,
            "object_position": null,
            "order": null,
            "overflow": null,
            "overflow_x": null,
            "overflow_y": null,
            "padding": null,
            "right": null,
            "top": null,
            "visibility": null,
            "width": null
          }
        },
        "b087dd2337cb4121a1bfd8ace3629376": {
          "model_module": "@jupyter-widgets/controls",
          "model_name": "DescriptionStyleModel",
          "model_module_version": "1.5.0",
          "state": {
            "_model_module": "@jupyter-widgets/controls",
            "_model_module_version": "1.5.0",
            "_model_name": "DescriptionStyleModel",
            "_view_count": null,
            "_view_module": "@jupyter-widgets/base",
            "_view_module_version": "1.2.0",
            "_view_name": "StyleView",
            "description_width": ""
          }
        },
        "13f9faaab8d6436c82551f8fe226e6b2": {
          "model_module": "@jupyter-widgets/controls",
          "model_name": "HBoxModel",
          "model_module_version": "1.5.0",
          "state": {
            "_dom_classes": [],
            "_model_module": "@jupyter-widgets/controls",
            "_model_module_version": "1.5.0",
            "_model_name": "HBoxModel",
            "_view_count": null,
            "_view_module": "@jupyter-widgets/controls",
            "_view_module_version": "1.5.0",
            "_view_name": "HBoxView",
            "box_style": "",
            "children": [
              "IPY_MODEL_156e2f2784294b66ad3c4d7429d7c4b0",
              "IPY_MODEL_b0f2b82868ba4807a49dae83065544df",
              "IPY_MODEL_f32aec45421d47f786f08d3bb8ffd670"
            ],
            "layout": "IPY_MODEL_b8b7c18df157449092ddce68ffa995c6"
          }
        },
        "156e2f2784294b66ad3c4d7429d7c4b0": {
          "model_module": "@jupyter-widgets/controls",
          "model_name": "HTMLModel",
          "model_module_version": "1.5.0",
          "state": {
            "_dom_classes": [],
            "_model_module": "@jupyter-widgets/controls",
            "_model_module_version": "1.5.0",
            "_model_name": "HTMLModel",
            "_view_count": null,
            "_view_module": "@jupyter-widgets/controls",
            "_view_module_version": "1.5.0",
            "_view_name": "HTMLView",
            "description": "",
            "description_tooltip": null,
            "layout": "IPY_MODEL_59b21fd0a82142feb3590e66bb039130",
            "placeholder": "​",
            "style": "IPY_MODEL_4fa8df1ced6c4becacfbadddf2724b56",
            "value": ""
          }
        },
        "b0f2b82868ba4807a49dae83065544df": {
          "model_module": "@jupyter-widgets/controls",
          "model_name": "FloatProgressModel",
          "model_module_version": "1.5.0",
          "state": {
            "_dom_classes": [],
            "_model_module": "@jupyter-widgets/controls",
            "_model_module_version": "1.5.0",
            "_model_name": "FloatProgressModel",
            "_view_count": null,
            "_view_module": "@jupyter-widgets/controls",
            "_view_module_version": "1.5.0",
            "_view_name": "ProgressView",
            "bar_style": "success",
            "description": "",
            "description_tooltip": null,
            "layout": "IPY_MODEL_d4b5f9554d044aa5b9cc8e141038e432",
            "max": 4542,
            "min": 0,
            "orientation": "horizontal",
            "style": "IPY_MODEL_78d1e396f4f14af083064097c080af9e",
            "value": 4542
          }
        },
        "f32aec45421d47f786f08d3bb8ffd670": {
          "model_module": "@jupyter-widgets/controls",
          "model_name": "HTMLModel",
          "model_module_version": "1.5.0",
          "state": {
            "_dom_classes": [],
            "_model_module": "@jupyter-widgets/controls",
            "_model_module_version": "1.5.0",
            "_model_name": "HTMLModel",
            "_view_count": null,
            "_view_module": "@jupyter-widgets/controls",
            "_view_module_version": "1.5.0",
            "_view_name": "HTMLView",
            "description": "",
            "description_tooltip": null,
            "layout": "IPY_MODEL_3240300b75744198babee037ca192c00",
            "placeholder": "​",
            "style": "IPY_MODEL_cf0ba9e15d5e41c7abe226525bd1f759",
            "value": " 5120/? [00:00&lt;00:00, 161186.19it/s]"
          }
        },
        "b8b7c18df157449092ddce68ffa995c6": {
          "model_module": "@jupyter-widgets/base",
          "model_name": "LayoutModel",
          "model_module_version": "1.2.0",
          "state": {
            "_model_module": "@jupyter-widgets/base",
            "_model_module_version": "1.2.0",
            "_model_name": "LayoutModel",
            "_view_count": null,
            "_view_module": "@jupyter-widgets/base",
            "_view_module_version": "1.2.0",
            "_view_name": "LayoutView",
            "align_content": null,
            "align_items": null,
            "align_self": null,
            "border": null,
            "bottom": null,
            "display": null,
            "flex": null,
            "flex_flow": null,
            "grid_area": null,
            "grid_auto_columns": null,
            "grid_auto_flow": null,
            "grid_auto_rows": null,
            "grid_column": null,
            "grid_gap": null,
            "grid_row": null,
            "grid_template_areas": null,
            "grid_template_columns": null,
            "grid_template_rows": null,
            "height": null,
            "justify_content": null,
            "justify_items": null,
            "left": null,
            "margin": null,
            "max_height": null,
            "max_width": null,
            "min_height": null,
            "min_width": null,
            "object_fit": null,
            "object_position": null,
            "order": null,
            "overflow": null,
            "overflow_x": null,
            "overflow_y": null,
            "padding": null,
            "right": null,
            "top": null,
            "visibility": null,
            "width": null
          }
        },
        "59b21fd0a82142feb3590e66bb039130": {
          "model_module": "@jupyter-widgets/base",
          "model_name": "LayoutModel",
          "model_module_version": "1.2.0",
          "state": {
            "_model_module": "@jupyter-widgets/base",
            "_model_module_version": "1.2.0",
            "_model_name": "LayoutModel",
            "_view_count": null,
            "_view_module": "@jupyter-widgets/base",
            "_view_module_version": "1.2.0",
            "_view_name": "LayoutView",
            "align_content": null,
            "align_items": null,
            "align_self": null,
            "border": null,
            "bottom": null,
            "display": null,
            "flex": null,
            "flex_flow": null,
            "grid_area": null,
            "grid_auto_columns": null,
            "grid_auto_flow": null,
            "grid_auto_rows": null,
            "grid_column": null,
            "grid_gap": null,
            "grid_row": null,
            "grid_template_areas": null,
            "grid_template_columns": null,
            "grid_template_rows": null,
            "height": null,
            "justify_content": null,
            "justify_items": null,
            "left": null,
            "margin": null,
            "max_height": null,
            "max_width": null,
            "min_height": null,
            "min_width": null,
            "object_fit": null,
            "object_position": null,
            "order": null,
            "overflow": null,
            "overflow_x": null,
            "overflow_y": null,
            "padding": null,
            "right": null,
            "top": null,
            "visibility": null,
            "width": null
          }
        },
        "4fa8df1ced6c4becacfbadddf2724b56": {
          "model_module": "@jupyter-widgets/controls",
          "model_name": "DescriptionStyleModel",
          "model_module_version": "1.5.0",
          "state": {
            "_model_module": "@jupyter-widgets/controls",
            "_model_module_version": "1.5.0",
            "_model_name": "DescriptionStyleModel",
            "_view_count": null,
            "_view_module": "@jupyter-widgets/base",
            "_view_module_version": "1.2.0",
            "_view_name": "StyleView",
            "description_width": ""
          }
        },
        "d4b5f9554d044aa5b9cc8e141038e432": {
          "model_module": "@jupyter-widgets/base",
          "model_name": "LayoutModel",
          "model_module_version": "1.2.0",
          "state": {
            "_model_module": "@jupyter-widgets/base",
            "_model_module_version": "1.2.0",
            "_model_name": "LayoutModel",
            "_view_count": null,
            "_view_module": "@jupyter-widgets/base",
            "_view_module_version": "1.2.0",
            "_view_name": "LayoutView",
            "align_content": null,
            "align_items": null,
            "align_self": null,
            "border": null,
            "bottom": null,
            "display": null,
            "flex": null,
            "flex_flow": null,
            "grid_area": null,
            "grid_auto_columns": null,
            "grid_auto_flow": null,
            "grid_auto_rows": null,
            "grid_column": null,
            "grid_gap": null,
            "grid_row": null,
            "grid_template_areas": null,
            "grid_template_columns": null,
            "grid_template_rows": null,
            "height": null,
            "justify_content": null,
            "justify_items": null,
            "left": null,
            "margin": null,
            "max_height": null,
            "max_width": null,
            "min_height": null,
            "min_width": null,
            "object_fit": null,
            "object_position": null,
            "order": null,
            "overflow": null,
            "overflow_x": null,
            "overflow_y": null,
            "padding": null,
            "right": null,
            "top": null,
            "visibility": null,
            "width": null
          }
        },
        "78d1e396f4f14af083064097c080af9e": {
          "model_module": "@jupyter-widgets/controls",
          "model_name": "ProgressStyleModel",
          "model_module_version": "1.5.0",
          "state": {
            "_model_module": "@jupyter-widgets/controls",
            "_model_module_version": "1.5.0",
            "_model_name": "ProgressStyleModel",
            "_view_count": null,
            "_view_module": "@jupyter-widgets/base",
            "_view_module_version": "1.2.0",
            "_view_name": "StyleView",
            "bar_color": null,
            "description_width": ""
          }
        },
        "3240300b75744198babee037ca192c00": {
          "model_module": "@jupyter-widgets/base",
          "model_name": "LayoutModel",
          "model_module_version": "1.2.0",
          "state": {
            "_model_module": "@jupyter-widgets/base",
            "_model_module_version": "1.2.0",
            "_model_name": "LayoutModel",
            "_view_count": null,
            "_view_module": "@jupyter-widgets/base",
            "_view_module_version": "1.2.0",
            "_view_name": "LayoutView",
            "align_content": null,
            "align_items": null,
            "align_self": null,
            "border": null,
            "bottom": null,
            "display": null,
            "flex": null,
            "flex_flow": null,
            "grid_area": null,
            "grid_auto_columns": null,
            "grid_auto_flow": null,
            "grid_auto_rows": null,
            "grid_column": null,
            "grid_gap": null,
            "grid_row": null,
            "grid_template_areas": null,
            "grid_template_columns": null,
            "grid_template_rows": null,
            "height": null,
            "justify_content": null,
            "justify_items": null,
            "left": null,
            "margin": null,
            "max_height": null,
            "max_width": null,
            "min_height": null,
            "min_width": null,
            "object_fit": null,
            "object_position": null,
            "order": null,
            "overflow": null,
            "overflow_x": null,
            "overflow_y": null,
            "padding": null,
            "right": null,
            "top": null,
            "visibility": null,
            "width": null
          }
        },
        "cf0ba9e15d5e41c7abe226525bd1f759": {
          "model_module": "@jupyter-widgets/controls",
          "model_name": "DescriptionStyleModel",
          "model_module_version": "1.5.0",
          "state": {
            "_model_module": "@jupyter-widgets/controls",
            "_model_module_version": "1.5.0",
            "_model_name": "DescriptionStyleModel",
            "_view_count": null,
            "_view_module": "@jupyter-widgets/base",
            "_view_module_version": "1.2.0",
            "_view_name": "StyleView",
            "description_width": ""
          }
        }
      }
    }
  },
  "cells": [
    {
      "cell_type": "code",
      "metadata": {
        "id": "zFCXz209Ye3F"
      },
      "source": [
        "import torch.nn.functional as F\n",
        "import torch\n",
        "import torchvision\n",
        "from matplotlib import pyplot as plt\n",
        "import os"
      ],
      "execution_count": 1,
      "outputs": []
    },
    {
      "cell_type": "code",
      "metadata": {
        "id": "MiW5U97VYlj9",
        "colab": {
          "base_uri": "https://localhost:8080/",
          "height": 492,
          "referenced_widgets": [
            "7bf224a4788145388b1c8016a9f658bd",
            "bc2e554e345446da8f14659c8506984e",
            "a0466573fe8d4694a395fc44ca13585d",
            "86173aa70830498d92462aae60282844",
            "623bf266528f4626ba53b7a6744cf12c",
            "6164ece8d2e349f2ba038da995aa8b47",
            "0dd7692306d947c49c81d712e3fc7476",
            "ca810c0429994419ba5d48d10ed536ab",
            "99dd7d35b45f43929d323b58d1fad195",
            "ab53103376c1438481599b6c1da05ed8",
            "53de664a41b7447999c3163c398ab8ff",
            "f89fbe4a7ef6473da5ef9ac1f395444f",
            "dbd8be18d14d416fb82461adfffadb1f",
            "3f17396e5ca84bb48e19bdabfd04d96f",
            "dd51ad3a3a314a74a936d86575ae5434",
            "6864922257f84e30afd7e05d93aa6718",
            "fa0484b93e874c4c800e94a28f400d0c",
            "4974c985895649b0ab3c5272667e12a1",
            "39b3b6017f5741c69347b4248d395e47",
            "4662051439884c1e956a3c01e29bac14",
            "f7ec78ddbb1842aca6db8820467b765f",
            "feb16e44fa1743d295e0194329960327",
            "c250af1792d448a6ad2a4948f9ce181e",
            "85fccef6026a42c1adf92d121732417b",
            "777b3d56b65f4b59977045c8d627c0c5",
            "af5ad2cd6c8d4fd6875bbbaec719413a",
            "fcb039fb38444fdab593812c0eb822c6",
            "297876ea25c54bf0bd11eeff0e6618cd",
            "ea19a0b5f5f142d2b58cdac7923012b9",
            "18eeebe278234c239dfd46129c97fcf0",
            "44bd802bfbed41caa5edda0521206270",
            "213104a2b8dc45519bebc2d52f2550ab",
            "b087dd2337cb4121a1bfd8ace3629376",
            "13f9faaab8d6436c82551f8fe226e6b2",
            "156e2f2784294b66ad3c4d7429d7c4b0",
            "b0f2b82868ba4807a49dae83065544df",
            "f32aec45421d47f786f08d3bb8ffd670",
            "b8b7c18df157449092ddce68ffa995c6",
            "59b21fd0a82142feb3590e66bb039130",
            "4fa8df1ced6c4becacfbadddf2724b56",
            "d4b5f9554d044aa5b9cc8e141038e432",
            "78d1e396f4f14af083064097c080af9e",
            "3240300b75744198babee037ca192c00",
            "cf0ba9e15d5e41c7abe226525bd1f759"
          ]
        },
        "outputId": "52b17819-6b35-456f-f448-ffcee579f05d"
      },
      "source": [
        "root_dir = './'\n",
        "torchvision.datasets.MNIST(root=root_dir,download=True)"
      ],
      "execution_count": 2,
      "outputs": [
        {
          "output_type": "stream",
          "name": "stdout",
          "text": [
            "Downloading http://yann.lecun.com/exdb/mnist/train-images-idx3-ubyte.gz\n",
            "Downloading http://yann.lecun.com/exdb/mnist/train-images-idx3-ubyte.gz to ./MNIST/raw/train-images-idx3-ubyte.gz\n"
          ]
        },
        {
          "output_type": "display_data",
          "data": {
            "text/plain": [
              "  0%|          | 0/9912422 [00:00<?, ?it/s]"
            ],
            "application/vnd.jupyter.widget-view+json": {
              "version_major": 2,
              "version_minor": 0,
              "model_id": "7bf224a4788145388b1c8016a9f658bd"
            }
          },
          "metadata": {}
        },
        {
          "output_type": "stream",
          "name": "stdout",
          "text": [
            "Extracting ./MNIST/raw/train-images-idx3-ubyte.gz to ./MNIST/raw\n",
            "\n",
            "Downloading http://yann.lecun.com/exdb/mnist/train-labels-idx1-ubyte.gz\n",
            "Downloading http://yann.lecun.com/exdb/mnist/train-labels-idx1-ubyte.gz to ./MNIST/raw/train-labels-idx1-ubyte.gz\n"
          ]
        },
        {
          "output_type": "display_data",
          "data": {
            "text/plain": [
              "  0%|          | 0/28881 [00:00<?, ?it/s]"
            ],
            "application/vnd.jupyter.widget-view+json": {
              "version_major": 2,
              "version_minor": 0,
              "model_id": "f89fbe4a7ef6473da5ef9ac1f395444f"
            }
          },
          "metadata": {}
        },
        {
          "output_type": "stream",
          "name": "stdout",
          "text": [
            "Extracting ./MNIST/raw/train-labels-idx1-ubyte.gz to ./MNIST/raw\n",
            "\n",
            "Downloading http://yann.lecun.com/exdb/mnist/t10k-images-idx3-ubyte.gz\n",
            "Downloading http://yann.lecun.com/exdb/mnist/t10k-images-idx3-ubyte.gz to ./MNIST/raw/t10k-images-idx3-ubyte.gz\n"
          ]
        },
        {
          "output_type": "display_data",
          "data": {
            "text/plain": [
              "  0%|          | 0/1648877 [00:00<?, ?it/s]"
            ],
            "application/vnd.jupyter.widget-view+json": {
              "version_major": 2,
              "version_minor": 0,
              "model_id": "c250af1792d448a6ad2a4948f9ce181e"
            }
          },
          "metadata": {}
        },
        {
          "output_type": "stream",
          "name": "stdout",
          "text": [
            "Extracting ./MNIST/raw/t10k-images-idx3-ubyte.gz to ./MNIST/raw\n",
            "\n",
            "Downloading http://yann.lecun.com/exdb/mnist/t10k-labels-idx1-ubyte.gz\n",
            "Downloading http://yann.lecun.com/exdb/mnist/t10k-labels-idx1-ubyte.gz to ./MNIST/raw/t10k-labels-idx1-ubyte.gz\n"
          ]
        },
        {
          "output_type": "display_data",
          "data": {
            "text/plain": [
              "  0%|          | 0/4542 [00:00<?, ?it/s]"
            ],
            "application/vnd.jupyter.widget-view+json": {
              "version_major": 2,
              "version_minor": 0,
              "model_id": "13f9faaab8d6436c82551f8fe226e6b2"
            }
          },
          "metadata": {}
        },
        {
          "output_type": "stream",
          "name": "stdout",
          "text": [
            "Extracting ./MNIST/raw/t10k-labels-idx1-ubyte.gz to ./MNIST/raw\n",
            "\n"
          ]
        },
        {
          "output_type": "execute_result",
          "data": {
            "text/plain": [
              "Dataset MNIST\n",
              "    Number of datapoints: 60000\n",
              "    Root location: ./\n",
              "    Split: Train"
            ]
          },
          "metadata": {},
          "execution_count": 2
        }
      ]
    },
    {
      "cell_type": "code",
      "metadata": {
        "id": "hJanGaztSBF2"
      },
      "source": [
        "# Load MNIST dataset\n",
        "train_set = torchvision.datasets.MNIST(root=root_dir, download=True, train=True)\n",
        "test_set = torchvision.datasets.MNIST(root=root_dir, download=True, train=False)"
      ],
      "execution_count": 3,
      "outputs": []
    },
    {
      "cell_type": "code",
      "metadata": {
        "id": "oNwamE6qSKiP",
        "colab": {
          "base_uri": "https://localhost:8080/"
        },
        "outputId": "67b79212-fd99-4f06-86f3-22a1cf045aff"
      },
      "source": [
        "# Dataset len\n",
        "num_train = len(train_set)\n",
        "num_test = len(test_set)\n",
        "print(f\"Num. training samples: {num_train}\")\n",
        "print(f\"Num. test samples:     {num_test}\")"
      ],
      "execution_count": 4,
      "outputs": [
        {
          "output_type": "stream",
          "name": "stdout",
          "text": [
            "Num. training samples: 60000\n",
            "Num. test samples:     10000\n"
          ]
        }
      ]
    },
    {
      "cell_type": "code",
      "metadata": {
        "id": "sIUHUWNha8el"
      },
      "source": [
        "from torchvision import utils\n",
        "import matplotlib.pyplot as plt\n",
        "import numpy as np\n",
        "%matplotlib inline"
      ],
      "execution_count": 5,
      "outputs": []
    },
    {
      "cell_type": "code",
      "metadata": {
        "id": "NLw1F2VLbGIl",
        "colab": {
          "base_uri": "https://localhost:8080/"
        },
        "outputId": "c4092588-4296-461e-a9e7-470687c97771"
      },
      "source": [
        "# extract data and targets\n",
        "x_train, y_train=train_set.data,train_set.targets\n",
        "print(x_train.shape)\n",
        "print(y_train.shape)"
      ],
      "execution_count": 26,
      "outputs": [
        {
          "output_type": "stream",
          "name": "stdout",
          "text": [
            "torch.Size([60000, 28, 28])\n",
            "torch.Size([60000])\n"
          ]
        }
      ]
    },
    {
      "cell_type": "code",
      "source": [
        "#FATTA DA ME 08 07 22\n",
        "import random\n",
        "nr_ex = 12000\n",
        "x_train_bin = x_train>0\n",
        "x_train_bin = x_train_bin.double()\n",
        "\n",
        "nr_act_pixels = torch.zeros(x_train_bin.size()[0])\n",
        "for ex in range(x_train_bin.size()[0]):\n",
        "  nr_act_pixels[ex]=(torch.sum(x_train_bin[ex,:,:])/784)\n",
        "  \n",
        "mask = torch.rand(nr_ex ,28, 28)  # uniformly distributed between 0 and 1\n",
        "\n",
        "for it in range(nr_ex):\n",
        "  up_or_low = random.randint(0, 3)\n",
        "  if up_or_low==0:\n",
        "    up_b = torch.distributions.uniform.Uniform(0,torch.min(nr_act_pixels)).sample()\n",
        "    mask[it,:,:] = mask[it,:,:] < up_b   # up_b% pixels \"on\"\n",
        "  elif up_or_low==1:\n",
        "    low_b = torch.distributions.uniform.Uniform(torch.max(nr_act_pixels),1).sample()\n",
        "    mask[it,:,:] = mask[it,:,:] > low_b   # up_b% pixels \"on\"\n",
        "  elif up_or_low==2:\n",
        "    #low_b = torch.min(nr_act_pixels)\n",
        "    up_b = torch.max(nr_act_pixels)\n",
        "    mask[it,:,:] = mask[it,:,:] < up_b\n",
        "  else:\n",
        "    mask[it,:,:] = mask[it,:,:] <1\n",
        "\n",
        "mask = torch.unsqueeze(mask,1)\n",
        "mask_int = F.interpolate(mask, size=(32, 32), mode='bicubic', align_corners=False)\n",
        "\n",
        "i = random.randint(0,12000)\n",
        "print(i)\n",
        "plt.imshow( mask_int[i,0,:,:] , cmap = 'gray')"
      ],
      "metadata": {
        "id": "foHKM-zYLdYv"
      },
      "execution_count": 190,
      "outputs": []
    },
    {
      "cell_type": "code",
      "metadata": {
        "id": "wcCDXNi1bg90",
        "colab": {
          "base_uri": "https://localhost:8080/"
        },
        "outputId": "a6d77140-dcce-43e8-dae5-ddb5e4b2398c"
      },
      "source": [
        "# add a dimension to tensor to become B*C*H*W\n",
        "if len(x_train.shape)==3:\n",
        "  x_train=x_train.unsqueeze(1)\n",
        "print(x_train.shape)"
      ],
      "execution_count": 206,
      "outputs": [
        {
          "output_type": "stream",
          "name": "stdout",
          "text": [
            "torch.Size([60000, 1, 28, 28])\n"
          ]
        }
      ]
    },
    {
      "cell_type": "code",
      "metadata": {
        "id": "xl1_l-aKaysD"
      },
      "source": [
        "def show(img):\n",
        "  # convert tensor to numpy array\n",
        "  npimg = img.numpy()\n",
        "  # Convert to H*W*C shape\n",
        "  npimg_tr=np.transpose(npimg, (1,2,0))\n",
        "  plt.imshow(npimg_tr,interpolation='nearest')"
      ],
      "execution_count": 207,
      "outputs": []
    },
    {
      "cell_type": "code",
      "metadata": {
        "id": "QO0RQURta3C3",
        "colab": {
          "base_uri": "https://localhost:8080/",
          "height": 278
        },
        "outputId": "d319082e-85fe-4db6-83d3-f352fc1d0e7c"
      },
      "source": [
        "# make a grid of 40 images, 8 images per row\n",
        "x_grid=utils.make_grid(x_train[:40], nrow=8, padding=2)\n",
        "print(x_grid.shape)\n",
        "# call helper function\n",
        "show(x_grid)"
      ],
      "execution_count": 208,
      "outputs": [
        {
          "output_type": "stream",
          "name": "stdout",
          "text": [
            "torch.Size([3, 152, 242])\n"
          ]
        },
        {
          "output_type": "display_data",
          "data": {
            "text/plain": [
              "<Figure size 432x288 with 1 Axes>"
            ],
            "image/png": "[encoded data removed]"
          },
          "metadata": {
            "needs_background": "light"
          }
        }
      ]
    },
    {
      "cell_type": "code",
      "metadata": {
        "id": "n-Gx9dtZSM0v"
      },
      "source": [
        "# List of indexes on the training set\n",
        "train_idx = list(range(num_train))\n",
        "\n",
        "# List of indexes of the test set\n",
        "test_idx = list(range(num_test))"
      ],
      "execution_count": 209,
      "outputs": []
    },
    {
      "cell_type": "code",
      "metadata": {
        "id": "5Unhsqe1SPX2",
        "colab": {
          "base_uri": "https://localhost:8080/"
        },
        "outputId": "b3041edb-c7fd-47e6-80b9-f51f338f2943"
      },
      "source": [
        "# Shuffle the training set\n",
        "import random\n",
        "\n",
        "random.shuffle(train_idx)\n",
        "for i in range(10):\n",
        "  print(train_idx[i])"
      ],
      "execution_count": 210,
      "outputs": [
        {
          "output_type": "stream",
          "name": "stdout",
          "text": [
            "36137\n",
            "16789\n",
            "34521\n",
            "44336\n",
            "31888\n",
            "47435\n",
            "41556\n",
            "2459\n",
            "29030\n",
            "11148\n"
          ]
        }
      ]
    },
    {
      "cell_type": "code",
      "metadata": {
        "id": "yJo5iKPpSRr3",
        "colab": {
          "base_uri": "https://localhost:8080/"
        },
        "outputId": "869f181b-8903-4b75-d4f9-15a9ba1c4498"
      },
      "source": [
        "# Fraction of the original train set that we want to use as validation set\n",
        "val_frac = 0.1\n",
        "# Number of samples of the validation set\n",
        "num_val = int(num_train * val_frac) \n",
        "num_train = num_train - num_val\n",
        "\n",
        "# Split training set\n",
        "val_idx = train_idx[num_train:]\n",
        "train_idx = train_idx[:num_train]\n",
        "\n",
        "print(f\"{num_train} samples used as train set\")\n",
        "print(f\"{num_val}  samples used as val set\")"
      ],
      "execution_count": 211,
      "outputs": [
        {
          "output_type": "stream",
          "name": "stdout",
          "text": [
            "48600 samples used as train set\n",
            "5400  samples used as val set\n"
          ]
        }
      ]
    },
    {
      "cell_type": "code",
      "metadata": {
        "id": "TZ1oJFIWSVm-",
        "colab": {
          "base_uri": "https://localhost:8080/"
        },
        "outputId": "8cf3bba5-bf00-4add-8dc0-74ff7aa95f2b"
      },
      "source": [
        "len(train_idx)"
      ],
      "execution_count": 212,
      "outputs": [
        {
          "output_type": "execute_result",
          "data": {
            "text/plain": [
              "48600"
            ]
          },
          "metadata": {},
          "execution_count": 212
        }
      ]
    },
    {
      "cell_type": "code",
      "metadata": {
        "id": "QOFmeNGfSXam"
      },
      "source": [
        "from torchvision import transforms\n",
        "\n",
        "# Compose transformations\n",
        "data_transform = transforms.Compose([\n",
        "  transforms.Resize(32),\n",
        "  transforms.RandomHorizontalFlip(),\n",
        "  transforms.ToTensor(),\n",
        "])\n",
        "\n",
        "test_transform = transforms.Compose([\n",
        "  transforms.Resize(32),\n",
        "  transforms.ToTensor(),\n",
        "])\n",
        "# Load MNIST dataset with transforms\n",
        "train_set = torchvision.datasets.MNIST(root=root_dir, train=True, download=True, transform=data_transform)\n",
        "test_set = torchvision.datasets.MNIST(root=root_dir, train=False, download=True, transform=test_transform)"
      ],
      "execution_count": 218,
      "outputs": []
    },
    {
      "cell_type": "code",
      "source": [
        "#FATTA DA ME 08 07 22\n",
        "imgs = torch.zeros(54000,1,32,32)\n",
        "lbls = torch.zeros(54000)\n",
        "c=0\n",
        "for i in train_idx:\n",
        "  image, label = train_set[i]\n",
        "  imgs[c,:,:,:]= image\n",
        "  lbls[c] = label\n",
        "  c = c+1\n",
        "\n",
        "ds = torch.cat((imgs, mask_int), 0)\n",
        "\n",
        "Nan_lbls = torch.ones(12000)*10\n",
        "ds_lbls = torch.cat((lbls, Nan_lbls), 0)\n",
        "\n"
      ],
      "metadata": {
        "id": "v-izoj3xQEvs"
      },
      "execution_count": 220,
      "outputs": []
    },
    {
      "cell_type": "code",
      "metadata": {
        "colab": {
          "base_uri": "https://localhost:8080/",
          "height": 283
        },
        "id": "Dagq5qHPY1sQ",
        "outputId": "64c01c7e-23a4-4d2d-f11a-978f2ce0ee78"
      },
      "source": [
        "image, label = train_set[1]\n",
        "plt.imshow(image.squeeze(), cmap='gray')\n",
        "print('Label:', label)"
      ],
      "execution_count": 221,
      "outputs": [
        {
          "output_type": "stream",
          "name": "stdout",
          "text": [
            "Label: 0\n"
          ]
        },
        {
          "output_type": "display_data",
          "data": {
            "text/plain": [
              "<Figure size 432x288 with 1 Axes>"
            ],
            "image/png": "[encoded data removed]"
          },
          "metadata": {
            "needs_background": "light"
          }
        }
      ]
    },
    {
      "cell_type": "code",
      "metadata": {
        "id": "1Kov4iNjSbO-"
      },
      "source": [
        "# Split train_dataset into training and validation\n",
        "from torch.utils.data import Subset\n",
        "\n",
        "val_set = Subset(train_set, val_idx)\n",
        "train_set = Subset(train_set, train_idx)"
      ],
      "execution_count": 223,
      "outputs": []
    },
    {
      "cell_type": "code",
      "metadata": {
        "id": "c86_czq_SfXh"
      },
      "source": [
        "# Define loaders\n",
        "from torch.utils.data import DataLoader\n",
        "train_loader = DataLoader(train_set, batch_size=64, num_workers=2, shuffle=True, drop_last=True)\n",
        "val_loader   = DataLoader(val_set,   batch_size=64, num_workers=2, shuffle=False, drop_last=False)\n",
        "test_loader  = DataLoader(test_set,  batch_size=64, num_workers=2, shuffle=False, drop_last=False)\n"
      ],
      "execution_count": 226,
      "outputs": []
    },
    {
      "cell_type": "code",
      "source": [
        "#fatta da me 08 07. train set con i fake data\n",
        "_dataset = torch.utils.data.TensorDataset(ds,ds_lbls) # create your datset\n",
        "train_loader = torch.utils.data.DataLoader(_dataset,batch_size=64, num_workers=2, shuffle=True, drop_last = True) # create your dataloader"
      ],
      "metadata": {
        "id": "sm8AGHjYVAnp"
      },
      "execution_count": 227,
      "outputs": []
    },
    {
      "cell_type": "code",
      "metadata": {
        "id": "0-0EkXJsZ0NG"
      },
      "source": [
        "import torch.nn as nn"
      ],
      "execution_count": 228,
      "outputs": []
    },
    {
      "cell_type": "code",
      "metadata": {
        "id": "jvbILdHidK6b"
      },
      "source": [
        "class VGGBlock(nn.Module):\n",
        "    def __init__(self, in_channels, out_channels,batch_norm=False):\n",
        "\n",
        "        super().__init__()\n",
        "\n",
        "        conv2_params = {'kernel_size': (3, 3),\n",
        "                        'stride'     : (1, 1),\n",
        "                        'padding'   : 1\n",
        "                        }\n",
        "\n",
        "        noop = lambda x : x\n",
        "\n",
        "        self._batch_norm = batch_norm\n",
        "\n",
        "        self.conv1 = nn.Conv2d(in_channels=in_channels,out_channels=out_channels , **conv2_params)\n",
        "        self.bn1 = nn.BatchNorm2d(out_channels) if batch_norm else noop\n",
        "        #self.bn1 = nn.GroupNorm(32, out_channels) if batch_norm else noop\n",
        "\n",
        "        self.conv2 = nn.Conv2d(in_channels=out_channels,out_channels=out_channels, **conv2_params)\n",
        "        self.bn2 = nn.BatchNorm2d(out_channels) if batch_norm else noop\n",
        "        #self.bn2 = nn.GroupNorm(32, out_channels) if batch_norm else noop\n",
        "\n",
        "        self.max_pooling = nn.MaxPool2d(kernel_size=(2, 2), stride=(2, 2))\n",
        "\n",
        "    @property\n",
        "    def batch_norm(self):\n",
        "        return self._batch_norm\n",
        "\n",
        "    def forward(self,x):\n",
        "        x = self.conv1(x)\n",
        "        x = self.bn1(x)\n",
        "        x = F.relu(x)\n",
        "\n",
        "        x = self.conv2(x)\n",
        "        x = self.bn2(x)\n",
        "        x = F.relu(x)\n",
        "\n",
        "        x = self.max_pooling(x)\n",
        "\n",
        "        return x"
      ],
      "execution_count": 229,
      "outputs": []
    },
    {
      "cell_type": "code",
      "metadata": {
        "id": "rOIHAxsJlSr3"
      },
      "source": [
        "class VGG16(nn.Module):\n",
        "\n",
        "  def __init__(self, input_size, num_classes=10,batch_norm=False):\n",
        "    super(VGG16, self).__init__()\n",
        "\n",
        "    self.in_channels,self.in_width,self.in_height = input_size\n",
        "\n",
        "    self.block_1 = VGGBlock(self.in_channels,64,batch_norm=batch_norm)\n",
        "    self.block_2 = VGGBlock(64, 128,batch_norm=batch_norm)\n",
        "    self.block_3 = VGGBlock(128, 256,batch_norm=batch_norm)\n",
        "    self.block_4 = VGGBlock(256,512,batch_norm=batch_norm)\n",
        "\n",
        "\n",
        "  @property\n",
        "  def input_size(self):\n",
        "      return self.in_channels,self.in_width,self.in_height\n",
        "\n",
        "  def forward(self, x):\n",
        "\n",
        "    x = self.block_1(x)\n",
        "    x = self.block_2(x)\n",
        "    x = self.block_3(x)\n",
        "    x = self.block_4(x)\n",
        "\n",
        "    return x"
      ],
      "execution_count": 230,
      "outputs": []
    },
    {
      "cell_type": "code",
      "metadata": {
        "colab": {
          "base_uri": "https://localhost:8080/"
        },
        "id": "oyAypDc8Z6E7",
        "outputId": "a87aa01b-dbcc-436a-e60c-d5e65e51240a"
      },
      "source": [
        "# Create the model\n",
        "model = VGG16((1,32,32),batch_norm=True)\n",
        "print(model)"
      ],
      "execution_count": 231,
      "outputs": [
        {
          "output_type": "stream",
          "name": "stdout",
          "text": [
            "VGG16(\n",
            "  (block_1): VGGBlock(\n",
            "    (conv1): Conv2d(1, 64, kernel_size=(3, 3), stride=(1, 1), padding=(1, 1))\n",
            "    (bn1): BatchNorm2d(64, eps=1e-05, momentum=0.1, affine=True, track_running_stats=True)\n",
            "    (conv2): Conv2d(64, 64, kernel_size=(3, 3), stride=(1, 1), padding=(1, 1))\n",
            "    (bn2): BatchNorm2d(64, eps=1e-05, momentum=0.1, affine=True, track_running_stats=True)\n",
            "    (max_pooling): MaxPool2d(kernel_size=(2, 2), stride=(2, 2), padding=0, dilation=1, ceil_mode=False)\n",
            "  )\n",
            "  (block_2): VGGBlock(\n",
            "    (conv1): Conv2d(64, 128, kernel_size=(3, 3), stride=(1, 1), padding=(1, 1))\n",
            "    (bn1): BatchNorm2d(128, eps=1e-05, momentum=0.1, affine=True, track_running_stats=True)\n",
            "    (conv2): Conv2d(128, 128, kernel_size=(3, 3), stride=(1, 1), padding=(1, 1))\n",
            "    (bn2): BatchNorm2d(128, eps=1e-05, momentum=0.1, affine=True, track_running_stats=True)\n",
            "    (max_pooling): MaxPool2d(kernel_size=(2, 2), stride=(2, 2), padding=0, dilation=1, ceil_mode=False)\n",
            "  )\n",
            "  (block_3): VGGBlock(\n",
            "    (conv1): Conv2d(128, 256, kernel_size=(3, 3), stride=(1, 1), padding=(1, 1))\n",
            "    (bn1): BatchNorm2d(256, eps=1e-05, momentum=0.1, affine=True, track_running_stats=True)\n",
            "    (conv2): Conv2d(256, 256, kernel_size=(3, 3), stride=(1, 1), padding=(1, 1))\n",
            "    (bn2): BatchNorm2d(256, eps=1e-05, momentum=0.1, affine=True, track_running_stats=True)\n",
            "    (max_pooling): MaxPool2d(kernel_size=(2, 2), stride=(2, 2), padding=0, dilation=1, ceil_mode=False)\n",
            "  )\n",
            "  (block_4): VGGBlock(\n",
            "    (conv1): Conv2d(256, 512, kernel_size=(3, 3), stride=(1, 1), padding=(1, 1))\n",
            "    (bn1): BatchNorm2d(512, eps=1e-05, momentum=0.1, affine=True, track_running_stats=True)\n",
            "    (conv2): Conv2d(512, 512, kernel_size=(3, 3), stride=(1, 1), padding=(1, 1))\n",
            "    (bn2): BatchNorm2d(512, eps=1e-05, momentum=0.1, affine=True, track_running_stats=True)\n",
            "    (max_pooling): MaxPool2d(kernel_size=(2, 2), stride=(2, 2), padding=0, dilation=1, ceil_mode=False)\n",
            "  )\n",
            ")\n"
          ]
        }
      ]
    },
    {
      "cell_type": "code",
      "metadata": {
        "id": "NF8A8moTe_Ru"
      },
      "source": [
        "# Get an element from the dataset\n",
        "test_x, _ = train_set[0] # each element of the dataset is a couple (image, label)"
      ],
      "execution_count": 232,
      "outputs": []
    },
    {
      "cell_type": "code",
      "metadata": {
        "id": "fx9kP4Ezfm_t",
        "colab": {
          "base_uri": "https://localhost:8080/"
        },
        "outputId": "ab5a66bd-324f-4ebd-d1e6-0b404b953ae5"
      },
      "source": [
        "# Get the size of a sample\n",
        "test_x.size()"
      ],
      "execution_count": 233,
      "outputs": [
        {
          "output_type": "execute_result",
          "data": {
            "text/plain": [
              "torch.Size([1, 32, 32])"
            ]
          },
          "metadata": {},
          "execution_count": 233
        }
      ]
    },
    {
      "cell_type": "code",
      "metadata": {
        "id": "zyyo8_axJTwy",
        "colab": {
          "base_uri": "https://localhost:8080/"
        },
        "outputId": "0dce658a-0203-49f2-a4d1-5a8cecca2276"
      },
      "source": [
        "test_x = test_x.unsqueeze(dim=0)\n",
        "test_x.size()"
      ],
      "execution_count": 234,
      "outputs": [
        {
          "output_type": "execute_result",
          "data": {
            "text/plain": [
              "torch.Size([1, 1, 32, 32])"
            ]
          },
          "metadata": {},
          "execution_count": 234
        }
      ]
    },
    {
      "cell_type": "code",
      "metadata": {
        "id": "e9r8-Nc1NZBM",
        "colab": {
          "base_uri": "https://localhost:8080/"
        },
        "outputId": "0801580d-98fc-448d-fb98-0f64e1c08fbd"
      },
      "source": [
        "output=model(test_x)\n",
        "output.shape"
      ],
      "execution_count": 235,
      "outputs": [
        {
          "output_type": "execute_result",
          "data": {
            "text/plain": [
              "torch.Size([1, 512, 2, 2])"
            ]
          },
          "metadata": {},
          "execution_count": 235
        }
      ]
    },
    {
      "cell_type": "code",
      "metadata": {
        "id": "KsdGIbZjahT1"
      },
      "source": [
        "class VGG16(nn.Module):\n",
        "\n",
        "  def __init__(self, input_size, num_classes=11,batch_norm=False):\n",
        "    super(VGG16, self).__init__()\n",
        "\n",
        "    self.in_channels,self.in_width,self.in_height = input_size\n",
        "\n",
        "    self.block_1 = VGGBlock(self.in_channels,64,batch_norm=batch_norm)\n",
        "    self.block_2 = VGGBlock(64, 128,batch_norm=batch_norm)\n",
        "    self.block_3 = VGGBlock(128, 256,batch_norm=batch_norm)\n",
        "    self.block_4 = VGGBlock(256,512,batch_norm=batch_norm)\n",
        "\n",
        "    self.classifier = nn.Sequential(\n",
        "            nn.Linear(2048, 4096),\n",
        "            nn.ReLU(True),\n",
        "            nn.Dropout(p=0.65),\n",
        "            nn.Linear(4096, 4096),\n",
        "            nn.ReLU(True),\n",
        "            nn.Dropout(p=0.65),\n",
        "            nn.Linear(4096, num_classes),\n",
        "            nn.Softmax(dim=1) \n",
        "        )\n",
        "\n",
        "  @property\n",
        "  def input_size(self):\n",
        "      return self.in_channels,self.in_width,self.in_height\n",
        "\n",
        "  def forward(self, x):\n",
        "\n",
        "    x = self.block_1(x)\n",
        "    x = self.block_2(x)\n",
        "    x = self.block_3(x)\n",
        "    x = self.block_4(x)\n",
        "    x = x.view(x.size(0), -1)\n",
        "    x = self.classifier(x)\n",
        "\n",
        "    return x"
      ],
      "execution_count": 236,
      "outputs": []
    },
    {
      "cell_type": "code",
      "metadata": {
        "colab": {
          "base_uri": "https://localhost:8080/"
        },
        "id": "mn52cQERa--Q",
        "outputId": "08ac0ab2-f792-4b64-fa94-08a381381cd1"
      },
      "source": [
        "# Create the model\n",
        "model = VGG16((1,32,32), batch_norm=True)\n",
        "output = model(test_x)\n",
        "output.shape"
      ],
      "execution_count": 237,
      "outputs": [
        {
          "output_type": "execute_result",
          "data": {
            "text/plain": [
              "torch.Size([1, 11])"
            ]
          },
          "metadata": {},
          "execution_count": 237
        }
      ]
    },
    {
      "cell_type": "code",
      "metadata": {
        "colab": {
          "base_uri": "https://localhost:8080/"
        },
        "id": "akOdRuH6c28Q",
        "outputId": "aecf4165-15be-4d51-9e6f-91c52da55a0c"
      },
      "source": [
        "torch.cuda.is_available()"
      ],
      "execution_count": 238,
      "outputs": [
        {
          "output_type": "execute_result",
          "data": {
            "text/plain": [
              "True"
            ]
          },
          "metadata": {},
          "execution_count": 238
        }
      ]
    },
    {
      "cell_type": "code",
      "metadata": {
        "colab": {
          "base_uri": "https://localhost:8080/"
        },
        "id": "jiKBS7XfdK06",
        "outputId": "718ab5b8-decd-48b7-c698-4b2d95d7e917"
      },
      "source": [
        "dev = torch.device('cuda')\n",
        "print(dev)"
      ],
      "execution_count": 239,
      "outputs": [
        {
          "output_type": "stream",
          "name": "stdout",
          "text": [
            "cuda\n"
          ]
        }
      ]
    },
    {
      "cell_type": "code",
      "metadata": {
        "id": "-ndSKMnydLiU"
      },
      "source": [
        "# Define an optimizier\n",
        "import torch.optim as optim\n",
        "optimizer = optim.SGD(model.parameters(), lr = 0.01)\n",
        "# Define a loss \n",
        "criterion = nn.CrossEntropyLoss()"
      ],
      "execution_count": 240,
      "outputs": []
    },
    {
      "cell_type": "code",
      "metadata": {
        "id": "g8-SFbXZbep9"
      },
      "source": [
        "def train(net, loaders, optimizer, criterion, epochs=20, dev=dev, save_param = False, model_name=\"VGG16_MNIST\"):\n",
        "    try:\n",
        "        net = net.to(dev)\n",
        "        #print(net)\n",
        "        # Initialize history\n",
        "        history_loss = {\"train\": [], \"val\": [], \"test\": []}\n",
        "        history_accuracy = {\"train\": [], \"val\": [], \"test\": []}\n",
        "        # Store the best val accuracy\n",
        "        best_val_accuracy = 0\n",
        "\n",
        "        # Process each epoch\n",
        "        for epoch in range(epochs):\n",
        "            # Initialize epoch variables\n",
        "            sum_loss = {\"train\": 0, \"val\": 0, \"test\": 0}\n",
        "            sum_accuracy = {\"train\": 0, \"val\": 0, \"test\": 0}\n",
        "            # Process each split\n",
        "            for split in [\"train\", \"val\", \"test\"]:\n",
        "                if split == \"train\":\n",
        "                  net.train()\n",
        "                else:\n",
        "                  net.eval()\n",
        "                # Process each batch\n",
        "                for (input, labels) in loaders[split]:\n",
        "                    # Move to CUDA\n",
        "                    input = input.to(dev)\n",
        "                    labels = labels.to(dev)\n",
        "                    # Reset gradients\n",
        "                    optimizer.zero_grad()\n",
        "                    # Compute output\n",
        "                    pred = net(input)\n",
        "                    #pred = pred.squeeze(dim=1) # Output shape is [Batch size, 1], but we want [Batch size]\n",
        "                    #labels = labels.unsqueeze(1)\n",
        "                    labels = labels.long()\n",
        "                    loss = criterion(pred, labels)\n",
        "                    # Update loss\n",
        "                    sum_loss[split] += loss.item()\n",
        "                    # Check parameter update\n",
        "                    if split == \"train\":\n",
        "                        # Compute gradients\n",
        "                        loss.backward()\n",
        "                        # Optimize\n",
        "                        optimizer.step()\n",
        "                    # Compute accuracy\n",
        "                    #pred_labels = pred.argmax(1) + 1\n",
        "                    #pred_labels = (pred >= 0.5).long() # Binarize predictions to 0 and 1\n",
        "                    _,pred_label = torch.max(pred, dim = 1)\n",
        "                    pred_labels = (pred_label == labels).float()\n",
        "\n",
        "                    batch_accuracy = pred_labels.sum().item()/input.size(0)\n",
        "                    # Update accuracy\n",
        "                    sum_accuracy[split] += batch_accuracy\n",
        "            # Compute epoch loss/accuracy\n",
        "            epoch_loss = {split: sum_loss[split]/len(loaders[split]) for split in [\"train\", \"val\", \"test\"]}\n",
        "            epoch_accuracy = {split: sum_accuracy[split]/len(loaders[split]) for split in [\"train\", \"val\", \"test\"]}\n",
        "\n",
        "            # Store params at the best validation accuracy\n",
        "            if save_param and epoch_accuracy[\"val\"] > best_val_accuracy:\n",
        "              #torch.save(net.state_dict(), f\"{net.__class__.__name__}_best_val.pth\")\n",
        "              from google.colab import drive\n",
        "              drive.mount('/content/gdrive')\n",
        "\n",
        "              save_path = \"/content/gdrive/My Drive/VGG16_MNIST\"\n",
        "\n",
        "              try:\n",
        "                  os.mkdir(save_path)\n",
        "              except:\n",
        "                  print(\"Folder already found\")\n",
        "              filename = save_path + '/'+ f\"{model_name}_best_val.pth\"\n",
        "     \n",
        "              torch.save(net.state_dict(), filename)\n",
        "              best_val_accuracy = epoch_accuracy[\"val\"]\n",
        "\n",
        "            # Update history\n",
        "            for split in [\"train\", \"val\", \"test\"]:\n",
        "                history_loss[split].append(epoch_loss[split])\n",
        "                history_accuracy[split].append(epoch_accuracy[split])\n",
        "            # Print info\n",
        "            print(f\"Epoch {epoch+1}:\",\n",
        "                  f\"TrL={epoch_loss['train']:.4f},\",\n",
        "                  f\"TrA={epoch_accuracy['train']:.4f},\",\n",
        "                  f\"VL={epoch_loss['val']:.4f},\",\n",
        "                  f\"VA={epoch_accuracy['val']:.4f},\",\n",
        "                  f\"TeL={epoch_loss['test']:.4f},\",\n",
        "                  f\"TeA={epoch_accuracy['test']:.4f},\")\n",
        "    except KeyboardInterrupt:\n",
        "        print(\"Interrupted\")\n",
        "    finally:\n",
        "        # Plot loss\n",
        "        plt.title(\"Loss\")\n",
        "        for split in [\"train\", \"val\", \"test\"]:\n",
        "            plt.plot(history_loss[split], label=split)\n",
        "        plt.legend()\n",
        "        plt.show()\n",
        "        # Plot accuracy\n",
        "        plt.title(\"Accuracy\")\n",
        "        for split in [\"train\", \"val\", \"test\"]:\n",
        "            plt.plot(history_accuracy[split], label=split)\n",
        "        plt.legend()\n",
        "        plt.show()"
      ],
      "execution_count": 241,
      "outputs": []
    },
    {
      "cell_type": "code",
      "metadata": {
        "id": "p4pK8FL5d3po"
      },
      "source": [
        "# Define dictionary of loaders\n",
        "loaders = {\"train\": train_loader,\n",
        "           \"val\": val_loader,\n",
        "           \"test\": test_loader}"
      ],
      "execution_count": 242,
      "outputs": []
    },
    {
      "cell_type": "code",
      "metadata": {
        "id": "1-mvk06NeW3Y",
        "colab": {
          "base_uri": "https://localhost:8080/"
        },
        "outputId": "a6add27e-011a-437c-9c15-f7b7944743db"
      },
      "source": [
        "# Train model\n",
        "train(model, loaders, optimizer, criterion, epochs=20, dev=dev, save_param = True)"
      ],
      "execution_count": null,
      "outputs": [
        {
          "output_type": "stream",
          "name": "stdout",
          "text": [
            "Drive already mounted at /content/gdrive; to attempt to forcibly remount, call drive.mount(\"/content/gdrive\", force_remount=True).\n",
            "Folder already found\n",
            "Epoch 1: TrL=2.0653, TrA=0.4724, VL=1.8631, VA=0.6972, TeL=1.8599, TeA=0.7024,\n",
            "Drive already mounted at /content/gdrive; to attempt to forcibly remount, call drive.mount(\"/content/gdrive\", force_remount=True).\n",
            "Folder already found\n",
            "Epoch 2: TrL=1.6850, TrA=0.8775, VL=1.6808, VA=0.8686, TeL=1.6754, TeA=0.8725,\n",
            "Drive already mounted at /content/gdrive; to attempt to forcibly remount, call drive.mount(\"/content/gdrive\", force_remount=True).\n",
            "Folder already found\n",
            "Epoch 3: TrL=1.6401, TrA=0.9075, VL=1.6605, VA=0.8841, TeL=1.6561, TeA=0.8876,\n",
            "Drive already mounted at /content/gdrive; to attempt to forcibly remount, call drive.mount(\"/content/gdrive\", force_remount=True).\n",
            "Folder already found\n",
            "Epoch 4: TrL=1.6292, TrA=0.9170, VL=1.6034, VA=0.9518, TeL=1.5950, TeA=0.9592,\n",
            "Drive already mounted at /content/gdrive; to attempt to forcibly remount, call drive.mount(\"/content/gdrive\", force_remount=True).\n",
            "Folder already found\n",
            "Epoch 5: TrL=1.5781, TrA=0.9731, VL=1.5831, VA=0.9640, TeL=1.5812, TeA=0.9656,\n",
            "Drive already mounted at /content/gdrive; to attempt to forcibly remount, call drive.mount(\"/content/gdrive\", force_remount=True).\n",
            "Folder already found\n",
            "Epoch 6: TrL=1.5658, TrA=0.9813, VL=1.5677, VA=0.9770, TeL=1.5637, TeA=0.9818,\n",
            "Drive already mounted at /content/gdrive; to attempt to forcibly remount, call drive.mount(\"/content/gdrive\", force_remount=True).\n",
            "Folder already found\n",
            "Epoch 7: TrL=1.5612, TrA=0.9848, VL=1.5641, VA=0.9812, TeL=1.5638, TeA=0.9820,\n",
            "Drive already mounted at /content/gdrive; to attempt to forcibly remount, call drive.mount(\"/content/gdrive\", force_remount=True).\n",
            "Folder already found\n",
            "Epoch 8: TrL=1.5578, TrA=0.9877, VL=1.5613, VA=0.9844, TeL=1.5594, TeA=0.9852,\n",
            "Epoch 9: TrL=1.5556, TrA=0.9895, VL=1.5605, VA=0.9838, TeL=1.5610, TeA=0.9831,\n",
            "Epoch 10: TrL=1.5541, TrA=0.9908, VL=1.5641, VA=0.9809, TeL=1.5657, TeA=0.9788,\n",
            "Epoch 11: TrL=1.5527, TrA=0.9921, VL=1.5594, VA=0.9842, TeL=1.5603, TeA=0.9838,\n"
          ]
        }
      ]
    },
    {
      "cell_type": "code",
      "source": [
        "#test che funzia 08 07 22\n",
        "bl = torch.zeros(1,1,32,32)\n",
        "plt.imshow( bl[0,0,:,:] , cmap = 'gray')\n",
        "\n",
        "with torch.no_grad():\n",
        "  pred_vals=model(bl.to(dev))\n",
        "\n",
        "_, inds = torch.max(pred_vals,dim=1)\n",
        "e = torch.distributions.Categorical(probs =pred_vals).entropy()\n",
        "print(pred_vals,inds,e)"
      ],
      "metadata": {
        "colab": {
          "base_uri": "https://localhost:8080/",
          "height": 318
        },
        "id": "cbDeDK2KcZ7i",
        "outputId": "7b5815be-2b11-4851-99a5-02e4c9b437f9"
      },
      "execution_count": 170,
      "outputs": [
        {
          "output_type": "stream",
          "name": "stdout",
          "text": [
            "tensor([[6.5808e-06, 9.6557e-01, 4.4878e-04, 1.1819e-05, 2.8777e-06, 2.0329e-04,\n",
            "         2.3727e-08, 3.3752e-02, 1.2506e-08, 1.4447e-07, 7.9037e-06]],\n",
            "       device='cuda:0') tensor([1], device='cuda:0') tensor([0.1537], device='cuda:0')\n"
          ]
        },
        {
          "output_type": "display_data",
          "data": {
            "text/plain": [
              "<Figure size 432x288 with 1 Axes>"
            ],
            "image/png": "[encoded data removed]"
          },
          "metadata": {
            "needs_background": "light"
          }
        }
      ]
    }
  ]
}